{
  "nbformat": 4,
  "nbformat_minor": 0,
  "metadata": {
    "colab": {
      "name": "3D-Photo-Inpainting.ipynb",
      "provenance": [],
      "collapsed_sections": [],
      "toc_visible": true,
      "include_colab_link": true
    },
    "kernelspec": {
      "name": "python3",
      "display_name": "Python 3"
    },
    "accelerator": "GPU"
  },
  "cells": [
    {
      "cell_type": "markdown",
      "metadata": {
        "id": "view-in-github",
        "colab_type": "text"
      },
      "source": [
        "<a href=\"https://colab.research.google.com/github/victusfate/3DLove/blob/gh-pages/3D_Photo_Inpainting.ipynb\" target=\"_parent\"><img src=\"https://colab.research.google.com/assets/colab-badge.svg\" alt=\"Open In Colab\"/></a>"
      ]
    },
    {
      "cell_type": "markdown",
      "metadata": {
        "id": "IY-s3ZpHBeAU",
        "colab_type": "text"
      },
      "source": [
        "**[CVPR 2020] 3D Photography using Context-aware Layered Depth Inpainting**\n",
        "\n",
        "[project website](https://shihmengli.github.io/3D-Photo-Inpainting/)"
      ]
    },
    {
      "cell_type": "markdown",
      "metadata": {
        "id": "LPQ0EWxgvMIc",
        "colab_type": "text"
      },
      "source": [
        "- **Prepare environment**\n"
      ]
    },
    {
      "cell_type": "code",
      "metadata": {
        "id": "5o-EIMeaghU0",
        "colab_type": "code",
        "outputId": "2acdce87-706f-4362-d9f1-179270514b39",
        "colab": {
          "base_uri": "https://localhost:8080/",
          "height": 1000
        }
      },
      "source": [
        "!pip3 install torch==1.4.0+cu100 torchvision==0.5.0+cu100 -f https://download.pytorch.org/whl/torch_stable.html\n",
        "!pip3 install opencv-python==4.2.0.32\n",
        "!pip3 install vispy==0.6.4\n",
        "!pip3 install moviepy==1.0.2\n",
        "!pip3 install transforms3d==0.3.1\n",
        "!pip3 install networkx==2.3\n",
        "!sudo apt install sed"
      ],
      "execution_count": 0,
      "outputs": [
        {
          "output_type": "stream",
          "text": [
            "Looking in links: https://download.pytorch.org/whl/torch_stable.html\n",
            "Collecting torch==1.4.0+cu100\n",
            "\u001b[?25l  Downloading https://download.pytorch.org/whl/cu100/torch-1.4.0%2Bcu100-cp36-cp36m-linux_x86_64.whl (723.9MB)\n",
            "\u001b[K     |████████████████████████████████| 723.9MB 23kB/s \n",
            "\u001b[?25hCollecting torchvision==0.5.0+cu100\n",
            "\u001b[?25l  Downloading https://download.pytorch.org/whl/cu100/torchvision-0.5.0%2Bcu100-cp36-cp36m-linux_x86_64.whl (4.0MB)\n",
            "\u001b[K     |████████████████████████████████| 4.1MB 3.3MB/s \n",
            "\u001b[?25hRequirement already satisfied: six in /usr/local/lib/python3.6/dist-packages (from torchvision==0.5.0+cu100) (1.12.0)\n",
            "Requirement already satisfied: pillow>=4.1.1 in /usr/local/lib/python3.6/dist-packages (from torchvision==0.5.0+cu100) (7.0.0)\n",
            "Requirement already satisfied: numpy in /usr/local/lib/python3.6/dist-packages (from torchvision==0.5.0+cu100) (1.18.2)\n",
            "Installing collected packages: torch, torchvision\n",
            "  Found existing installation: torch 1.4.0\n",
            "    Uninstalling torch-1.4.0:\n",
            "      Successfully uninstalled torch-1.4.0\n",
            "  Found existing installation: torchvision 0.5.0\n",
            "    Uninstalling torchvision-0.5.0:\n",
            "      Successfully uninstalled torchvision-0.5.0\n",
            "Successfully installed torch-1.4.0+cu100 torchvision-0.5.0+cu100\n",
            "Collecting opencv-python==4.2.0.32\n",
            "\u001b[?25l  Downloading https://files.pythonhosted.org/packages/68/c5/09a1b82f940805c2cee30c3c42786651edcfd0710a0283eb09c6bc959340/opencv_python-4.2.0.32-cp36-cp36m-manylinux1_x86_64.whl (28.2MB)\n",
            "\u001b[K     |████████████████████████████████| 28.2MB 115kB/s \n",
            "\u001b[?25hRequirement already satisfied: numpy>=1.11.3 in /usr/local/lib/python3.6/dist-packages (from opencv-python==4.2.0.32) (1.18.2)\n",
            "\u001b[31mERROR: albumentations 0.1.12 has requirement imgaug<0.2.7,>=0.2.5, but you'll have imgaug 0.2.9 which is incompatible.\u001b[0m\n",
            "Installing collected packages: opencv-python\n",
            "  Found existing installation: opencv-python 4.1.2.30\n",
            "    Uninstalling opencv-python-4.1.2.30:\n",
            "      Successfully uninstalled opencv-python-4.1.2.30\n",
            "Successfully installed opencv-python-4.2.0.32\n",
            "Collecting vispy==0.6.4\n",
            "\u001b[?25l  Downloading https://files.pythonhosted.org/packages/cf/29/899797a9af4446d3ddf594f49b0fbd43076eafa1552e24690cfd99b0e2ff/vispy-0.6.4-cp36-cp36m-manylinux2010_x86_64.whl (2.3MB)\n",
            "\u001b[K     |████████████████████████████████| 2.3MB 16.5MB/s \n",
            "\u001b[?25hCollecting freetype-py\n",
            "\u001b[?25l  Downloading https://files.pythonhosted.org/packages/f2/00/6f332e63b33d24dc3761916e6d51402a7a82dd43c6ca8a96e24dda32c6b5/freetype_py-2.1.0.post1-py2.py3-none-manylinux1_x86_64.whl (883kB)\n",
            "\u001b[K     |████████████████████████████████| 890kB 47.6MB/s \n",
            "\u001b[?25hRequirement already satisfied: numpy in /usr/local/lib/python3.6/dist-packages (from vispy==0.6.4) (1.18.2)\n",
            "Installing collected packages: freetype-py, vispy\n",
            "Successfully installed freetype-py-2.1.0.post1 vispy-0.6.4\n",
            "Collecting moviepy==1.0.2\n",
            "\u001b[?25l  Downloading https://files.pythonhosted.org/packages/71/64/e7f0876716d5c35612bf8e9e49299d0f491285f10f36cbb481556ab0062b/moviepy-1.0.2.tar.gz (7.8MB)\n",
            "\u001b[K     |████████████████████████████████| 7.9MB 8.2MB/s \n",
            "\u001b[?25hRequirement already satisfied: decorator<5.0,>=4.0.2 in /usr/local/lib/python3.6/dist-packages (from moviepy==1.0.2) (4.4.2)\n",
            "Requirement already satisfied: tqdm<5.0,>=4.11.2 in /usr/local/lib/python3.6/dist-packages (from moviepy==1.0.2) (4.38.0)\n",
            "Requirement already satisfied: requests<3.0,>=2.8.1 in /usr/local/lib/python3.6/dist-packages (from moviepy==1.0.2) (2.21.0)\n",
            "Collecting proglog<=1.0.0\n",
            "  Downloading https://files.pythonhosted.org/packages/fe/ab/4cb19b578e1364c0b2d6efd6521a8b4b4e5c4ae6528041d31a2a951dd991/proglog-0.1.9.tar.gz\n",
            "Requirement already satisfied: numpy>=1.17.3 in /usr/local/lib/python3.6/dist-packages (from moviepy==1.0.2) (1.18.2)\n",
            "Collecting imageio<3.0,>=2.5\n",
            "\u001b[?25l  Downloading https://files.pythonhosted.org/packages/4c/2b/9dd19644f871b10f7e32eb2dbd6b45149c350b4d5f2893e091b882e03ab7/imageio-2.8.0-py3-none-any.whl (3.3MB)\n",
            "\u001b[K     |████████████████████████████████| 3.3MB 48.1MB/s \n",
            "\u001b[?25hCollecting imageio_ffmpeg>=0.2.0\n",
            "\u001b[?25l  Downloading https://files.pythonhosted.org/packages/0a/45/2472071095310b3e92010c051cbd2e3c655247ad9090851a86b8bfdcfbc5/imageio_ffmpeg-0.4.1-py3-none-manylinux2010_x86_64.whl (22.2MB)\n",
            "\u001b[K     |████████████████████████████████| 22.2MB 1.5MB/s \n",
            "\u001b[?25hRequirement already satisfied: urllib3<1.25,>=1.21.1 in /usr/local/lib/python3.6/dist-packages (from requests<3.0,>=2.8.1->moviepy==1.0.2) (1.24.3)\n",
            "Requirement already satisfied: idna<2.9,>=2.5 in /usr/local/lib/python3.6/dist-packages (from requests<3.0,>=2.8.1->moviepy==1.0.2) (2.8)\n",
            "Requirement already satisfied: chardet<3.1.0,>=3.0.2 in /usr/local/lib/python3.6/dist-packages (from requests<3.0,>=2.8.1->moviepy==1.0.2) (3.0.4)\n",
            "Requirement already satisfied: certifi>=2017.4.17 in /usr/local/lib/python3.6/dist-packages (from requests<3.0,>=2.8.1->moviepy==1.0.2) (2020.4.5.1)\n",
            "Requirement already satisfied: pillow in /usr/local/lib/python3.6/dist-packages (from imageio<3.0,>=2.5->moviepy==1.0.2) (7.0.0)\n",
            "Building wheels for collected packages: moviepy, proglog\n",
            "  Building wheel for moviepy (setup.py) ... \u001b[?25l\u001b[?25hdone\n",
            "  Created wheel for moviepy: filename=moviepy-1.0.2-cp36-none-any.whl size=110730 sha256=dc9873d54e3343892a960edfa7c2060a34bd62560f352621e50d04e4e82aaa74\n",
            "  Stored in directory: /root/.cache/pip/wheels/20/49/a9/770a9a22e7a020d796ab3784d2dc4839e38450a1ac87e6106f\n",
            "  Building wheel for proglog (setup.py) ... \u001b[?25l\u001b[?25hdone\n",
            "  Created wheel for proglog: filename=proglog-0.1.9-cp36-none-any.whl size=6149 sha256=7cf801f132146bbc328c2b0b1ca7523d996e37acf969972980af99404ea05479\n",
            "  Stored in directory: /root/.cache/pip/wheels/65/56/60/1d0306a8d90b188af393c1812ddb502a8821b70917f82dcc00\n",
            "Successfully built moviepy proglog\n",
            "\u001b[31mERROR: albumentations 0.1.12 has requirement imgaug<0.2.7,>=0.2.5, but you'll have imgaug 0.2.9 which is incompatible.\u001b[0m\n",
            "Installing collected packages: proglog, imageio, imageio-ffmpeg, moviepy\n",
            "  Found existing installation: imageio 2.4.1\n",
            "    Uninstalling imageio-2.4.1:\n",
            "      Successfully uninstalled imageio-2.4.1\n",
            "  Found existing installation: moviepy 0.2.3.5\n",
            "    Uninstalling moviepy-0.2.3.5:\n",
            "      Successfully uninstalled moviepy-0.2.3.5\n",
            "Successfully installed imageio-2.8.0 imageio-ffmpeg-0.4.1 moviepy-1.0.2 proglog-0.1.9\n",
            "Collecting transforms3d==0.3.1\n",
            "\u001b[?25l  Downloading https://files.pythonhosted.org/packages/b5/f7/e85809168a548a854d7c1331560c27b4f5381698d29c12e57759192b2bc1/transforms3d-0.3.1.tar.gz (62kB)\n",
            "\u001b[K     |████████████████████████████████| 71kB 7.6MB/s \n",
            "\u001b[?25hBuilding wheels for collected packages: transforms3d\n",
            "  Building wheel for transforms3d (setup.py) ... \u001b[?25l\u001b[?25hdone\n",
            "  Created wheel for transforms3d: filename=transforms3d-0.3.1-cp36-none-any.whl size=59375 sha256=612b068153bdb98a40e092be1c44046ee32a717f8361dbc9ca66ae4ea18e4d5d\n",
            "  Stored in directory: /root/.cache/pip/wheels/3d/3c/84/28d36677f3c760c048bd02b5a547ea0c4027770cc9cdb9af1e\n",
            "Successfully built transforms3d\n",
            "Installing collected packages: transforms3d\n",
            "Successfully installed transforms3d-0.3.1\n",
            "Collecting networkx==2.3\n",
            "\u001b[?25l  Downloading https://files.pythonhosted.org/packages/85/08/f20aef11d4c343b557e5de6b9548761811eb16e438cee3d32b1c66c8566b/networkx-2.3.zip (1.7MB)\n",
            "\u001b[K     |████████████████████████████████| 1.8MB 14.8MB/s \n",
            "\u001b[?25hRequirement already satisfied: decorator>=4.3.0 in /usr/local/lib/python3.6/dist-packages (from networkx==2.3) (4.4.2)\n",
            "Building wheels for collected packages: networkx\n",
            "  Building wheel for networkx (setup.py) ... \u001b[?25l\u001b[?25hdone\n",
            "  Created wheel for networkx: filename=networkx-2.3-py2.py3-none-any.whl size=1556408 sha256=2da1d90f3f2f392a15ecaa12581c561095e7541b1f2ce8bc7378928aa7935923\n",
            "  Stored in directory: /root/.cache/pip/wheels/de/63/64/3699be2a9d0ccdb37c7f16329acf3863fd76eda58c39c737af\n",
            "Successfully built networkx\n",
            "\u001b[31mERROR: albumentations 0.1.12 has requirement imgaug<0.2.7,>=0.2.5, but you'll have imgaug 0.2.9 which is incompatible.\u001b[0m\n",
            "Installing collected packages: networkx\n",
            "  Found existing installation: networkx 2.4\n",
            "    Uninstalling networkx-2.4:\n",
            "      Successfully uninstalled networkx-2.4\n",
            "Successfully installed networkx-2.3\n",
            "Reading package lists... Done\n",
            "Building dependency tree       \n",
            "Reading state information... Done\n",
            "sed is already the newest version (4.4-2).\n",
            "0 upgraded, 0 newly installed, 0 to remove and 25 not upgraded.\n"
          ],
          "name": "stdout"
        }
      ]
    },
    {
      "cell_type": "markdown",
      "metadata": {
        "id": "c-g7AeLMvY0R",
        "colab_type": "text"
      },
      "source": [
        "- **Download script and pretrained model**\n"
      ]
    },
    {
      "cell_type": "code",
      "metadata": {
        "id": "cOFIBkWrBlNM",
        "colab_type": "code",
        "outputId": "9584ac7c-69cf-46ac-d063-af8d06880a3b",
        "colab": {
          "base_uri": "https://localhost:8080/",
          "height": 918
        }
      },
      "source": [
        "%cd /content/\n",
        "!git clone https://github.com/vt-vl-lab/3d-photo-inpainting.git\n",
        "%cd 3d-photo-inpainting\n",
        "!sh download.sh"
      ],
      "execution_count": 0,
      "outputs": [
        {
          "output_type": "stream",
          "text": [
            "/content\n",
            "Cloning into '3d-photo-inpainting'...\n",
            "remote: Enumerating objects: 109, done.\u001b[K\n",
            "remote: Counting objects: 100% (109/109), done.\u001b[K\n",
            "remote: Compressing objects: 100% (81/81), done.\u001b[K\n",
            "remote: Total 189 (delta 61), reused 70 (delta 27), pack-reused 80\u001b[K\n",
            "Receiving objects: 100% (189/189), 103.08 MiB | 29.30 MiB/s, done.\n",
            "Resolving deltas: 100% (93/93), done.\n",
            "/content/3d-photo-inpainting\n",
            "--2020-04-11 21:09:54--  https://filebox.ece.vt.edu/~jbhuang/project/3DPhoto/model/color-model.pth\n",
            "Resolving filebox.ece.vt.edu (filebox.ece.vt.edu)... 128.173.88.43\n",
            "Connecting to filebox.ece.vt.edu (filebox.ece.vt.edu)|128.173.88.43|:443... connected.\n",
            "HTTP request sent, awaiting response... 200 OK\n",
            "Length: 206331633 (197M)\n",
            "Saving to: ‘color-model.pth’\n",
            "\n",
            "color-model.pth     100%[===================>] 196.77M  45.1MB/s    in 5.7s    \n",
            "\n",
            "2020-04-11 21:10:00 (34.3 MB/s) - ‘color-model.pth’ saved [206331633/206331633]\n",
            "\n",
            "--2020-04-11 21:10:00--  https://filebox.ece.vt.edu/~jbhuang/project/3DPhoto/model/depth-model.pth\n",
            "Resolving filebox.ece.vt.edu (filebox.ece.vt.edu)... 128.173.88.43\n",
            "Connecting to filebox.ece.vt.edu (filebox.ece.vt.edu)|128.173.88.43|:443... connected.\n",
            "HTTP request sent, awaiting response... 200 OK\n",
            "Length: 206272258 (197M)\n",
            "Saving to: ‘depth-model.pth’\n",
            "\n",
            "depth-model.pth     100%[===================>] 196.72M  45.3MB/s    in 5.8s    \n",
            "\n",
            "2020-04-11 21:10:06 (33.9 MB/s) - ‘depth-model.pth’ saved [206272258/206272258]\n",
            "\n",
            "--2020-04-11 21:10:06--  https://filebox.ece.vt.edu/~jbhuang/project/3DPhoto/model/edge-model.pth\n",
            "Resolving filebox.ece.vt.edu (filebox.ece.vt.edu)... 128.173.88.43\n",
            "Connecting to filebox.ece.vt.edu (filebox.ece.vt.edu)|128.173.88.43|:443... connected.\n",
            "HTTP request sent, awaiting response... 200 OK\n",
            "Length: 45974122 (44M)\n",
            "Saving to: ‘edge-model.pth’\n",
            "\n",
            "edge-model.pth      100%[===================>]  43.84M  12.1MB/s    in 3.8s    \n",
            "\n",
            "2020-04-11 21:10:10 (11.5 MB/s) - ‘edge-model.pth’ saved [45974122/45974122]\n",
            "\n",
            "--2020-04-11 21:10:10--  https://filebox.ece.vt.edu/~jbhuang/project/3DPhoto/model/model.pt\n",
            "Resolving filebox.ece.vt.edu (filebox.ece.vt.edu)... 128.173.88.43\n",
            "Connecting to filebox.ece.vt.edu (filebox.ece.vt.edu)|128.173.88.43|:443... connected.\n",
            "HTTP request sent, awaiting response... 200 OK\n",
            "Length: 149751722 (143M)\n",
            "Saving to: ‘model.pt’\n",
            "\n",
            "model.pt            100%[===================>] 142.81M  43.5MB/s    in 4.6s    \n",
            "\n",
            "2020-04-11 21:10:15 (31.3 MB/s) - ‘model.pt’ saved [149751722/149751722]\n",
            "\n"
          ],
          "name": "stdout"
        }
      ]
    },
    {
      "cell_type": "markdown",
      "metadata": {
        "id": "D_Fg_aMeDnmd",
        "colab_type": "text"
      },
      "source": [
        "- **Switch off off-screen rendering**"
      ]
    },
    {
      "cell_type": "code",
      "metadata": {
        "id": "S9TmdOBRDXcV",
        "colab_type": "code",
        "colab": {}
      },
      "source": [
        "!sed -i 's/offscreen_rendering: True/offscreen_rendering: False/g' argument.yml"
      ],
      "execution_count": 0,
      "outputs": []
    },
    {
      "cell_type": "markdown",
      "metadata": {
        "id": "cCN8L7GiDpZA",
        "colab_type": "text"
      },
      "source": [
        "- **Please upload `.jpg` files to `/content/3d-photo-inpainting-master/image/`**\n",
        "  - You can run this step multiple times to upload multiple `.jpg` files."
      ]
    },
    {
      "cell_type": "code",
      "metadata": {
        "id": "n-Kl6fo1oows",
        "colab_type": "code",
        "outputId": "460bbe0a-b3e6-4e2c-a6a8-cb12dee6fda3",
        "colab": {
          "resources": {
            "http://localhost:8080/nbextensions/google.colab/files.js": {
              "data": "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",
              "ok": true,
              "headers": [
                [
                  "content-type",
                  "application/javascript"
                ]
              ],
              "status": 200,
              "status_text": ""
            }
          },
          "base_uri": "https://localhost:8080/",
          "height": 125
        }
      },
      "source": [
        "%cd image\n",
        "from google.colab import files\n",
        "uploaded = files.upload()\n",
        "for fn in uploaded.keys():\n",
        "  print('User uploaded file \"{name}\" with length {length} bytes'.format(\n",
        "      name=fn, length=len(uploaded[fn])))\n",
        "%cd .."
      ],
      "execution_count": 0,
      "outputs": [
        {
          "output_type": "stream",
          "text": [
            "/content/3d-photo-inpainting/image\n"
          ],
          "name": "stdout"
        },
        {
          "output_type": "display_data",
          "data": {
            "text/html": [
              "\n",
              "     <input type=\"file\" id=\"files-2f810829-875f-408d-92bd-4fc9c0c0da9b\" name=\"files[]\" multiple disabled />\n",
              "     <output id=\"result-2f810829-875f-408d-92bd-4fc9c0c0da9b\">\n",
              "      Upload widget is only available when the cell has been executed in the\n",
              "      current browser session. Please rerun this cell to enable.\n",
              "      </output>\n",
              "      <script src=\"/nbextensions/google.colab/files.js\"></script> "
            ],
            "text/plain": [
              "<IPython.core.display.HTML object>"
            ]
          },
          "metadata": {
            "tags": []
          }
        },
        {
          "output_type": "stream",
          "text": [
            "Saving raul.jpg to raul.jpg\n",
            "User uploaded file \"raul.jpg\" with length 199787 bytes\n",
            "/content/3d-photo-inpainting\n"
          ],
          "name": "stdout"
        }
      ]
    },
    {
      "cell_type": "markdown",
      "metadata": {
        "id": "wyLFopwVDzUg",
        "colab_type": "text"
      },
      "source": [
        "- **Execute the 3D Photo Inpainting**\n",
        "  - Note: The 3D photo generation process usually takes about 2-3 minutes or more depending on the available computing resources."
      ]
    },
    {
      "cell_type": "code",
      "metadata": {
        "id": "i5-MWEjfBjYx",
        "colab_type": "code",
        "outputId": "8bd72a73-b373-4a04-bab3-ff1c304c1f18",
        "colab": {
          "base_uri": "https://localhost:8080/",
          "height": 1000
        }
      },
      "source": [
        "!python main.py --config argument.yml"
      ],
      "execution_count": 0,
      "outputs": [
        {
          "output_type": "stream",
          "text": [
            "\r  0% 0/1 [00:00<?, ?it/s]Current Source ==>  moon\n",
            "initialize\n",
            "device: cpu\n",
            "start processing\n",
            "  processing image/moon.jpg (1/1)\n",
            "torch.Size([1, 3, 384, 384])\n",
            "finished\n",
            "Start Running 3D_Photo ...\n",
            "Writing mesh file mesh/moon.ply ...\n",
            "53.13010235415598\n",
            "Moviepy - Building video video/moon_zoom-in.mp4.\n",
            "Moviepy - Writing video video/moon_zoom-in.mp4\n",
            "\n",
            "  0% 0/1 [03:28<?, ?it/s]\n",
            "t:   0% 0/241 [00:00<?, ?it/s, now=None]\u001b[A\n",
            "t:   1% 2/241 [00:00<00:36,  6.49it/s, now=None]\u001b[A\n",
            "t:   1% 3/241 [00:00<00:33,  7.05it/s, now=None]\u001b[A\n",
            "t:   5% 13/241 [00:00<00:23,  9.76it/s, now=None]\u001b[A\n",
            "t:  10% 23/241 [00:00<00:16, 13.36it/s, now=None]\u001b[A\n",
            "t:  15% 35/241 [00:00<00:11, 18.17it/s, now=None]\u001b[A\n",
            "t:  19% 45/241 [00:00<00:08, 24.08it/s, now=None]\u001b[A\n",
            "t:  22% 53/241 [00:01<00:08, 22.42it/s, now=None]\u001b[A\n",
            "t:  25% 60/241 [00:01<00:08, 20.80it/s, now=None]\u001b[A\n",
            "t:  27% 65/241 [00:01<00:08, 20.26it/s, now=None]\u001b[A\n",
            "t:  29% 69/241 [00:02<00:08, 21.00it/s, now=None]\u001b[A\n",
            "t:  30% 73/241 [00:02<00:08, 20.32it/s, now=None]\u001b[A\n",
            "t:  32% 76/241 [00:02<00:08, 19.27it/s, now=None]\u001b[A\n",
            "t:  33% 79/241 [00:02<00:08, 18.24it/s, now=None]\u001b[A\n",
            "t:  34% 83/241 [00:02<00:08, 18.48it/s, now=None]\u001b[A\n",
            "t:  36% 87/241 [00:03<00:08, 18.67it/s, now=None]\u001b[A\n",
            "t:  37% 90/241 [00:03<00:07, 20.92it/s, now=None]\u001b[A\n",
            "t:  39% 93/241 [00:03<00:07, 19.82it/s, now=None]\u001b[A\n",
            "t:  40% 96/241 [00:03<00:07, 19.10it/s, now=None]\u001b[A\n",
            "t:  41% 99/241 [00:03<00:07, 18.24it/s, now=None]\u001b[A\n",
            "t:  42% 102/241 [00:03<00:06, 19.99it/s, now=None]\u001b[A\n",
            "t:  44% 105/241 [00:03<00:07, 19.28it/s, now=None]\u001b[A\n",
            "t:  45% 108/241 [00:04<00:07, 18.84it/s, now=None]\u001b[A\n",
            "t:  46% 111/241 [00:04<00:07, 18.24it/s, now=None]\u001b[A\n",
            "t:  47% 114/241 [00:04<00:06, 20.65it/s, now=None]\u001b[A\n",
            "t:  49% 117/241 [00:04<00:06, 19.15it/s, now=None]\u001b[A\n",
            "t:  50% 120/241 [00:04<00:06, 18.62it/s, now=None]\u001b[A\n",
            "t:  51% 123/241 [00:04<00:06, 18.23it/s, now=None]\u001b[A\n",
            "t:  52% 126/241 [00:05<00:05, 20.49it/s, now=None]\u001b[A\n",
            "t:  54% 129/241 [00:05<00:05, 19.96it/s, now=None]\u001b[A\n",
            "t:  55% 132/241 [00:05<00:05, 18.55it/s, now=None]\u001b[A\n",
            "t:  56% 135/241 [00:05<00:05, 18.16it/s, now=None]\u001b[A\n",
            "t:  57% 138/241 [00:05<00:05, 19.60it/s, now=None]\u001b[A\n",
            "t:  59% 141/241 [00:05<00:05, 19.64it/s, now=None]\u001b[A\n",
            "t:  60% 144/241 [00:06<00:05, 17.88it/s, now=None]\u001b[A\n",
            "t:  61% 147/241 [00:06<00:05, 17.43it/s, now=None]\u001b[A\n",
            "t:  62% 150/241 [00:06<00:04, 19.59it/s, now=None]\u001b[A\n",
            "t:  63% 153/241 [00:06<00:04, 19.17it/s, now=None]\u001b[A\n",
            "t:  65% 156/241 [00:06<00:04, 18.63it/s, now=None]\u001b[A\n",
            "t:  66% 159/241 [00:06<00:04, 17.49it/s, now=None]\u001b[A\n",
            "t:  67% 162/241 [00:06<00:04, 19.54it/s, now=None]\u001b[A\n",
            "t:  68% 165/241 [00:07<00:04, 18.95it/s, now=None]\u001b[A\n",
            "t:  69% 167/241 [00:07<00:04, 17.35it/s, now=None]\u001b[A\n",
            "t:  71% 170/241 [00:07<00:03, 19.11it/s, now=None]\u001b[A\n",
            "t:  72% 173/241 [00:07<00:03, 18.93it/s, now=None]\u001b[A\n",
            "t:  73% 175/241 [00:07<00:03, 17.65it/s, now=None]\u001b[A\n",
            "t:  74% 178/241 [00:07<00:03, 19.73it/s, now=None]\u001b[A\n",
            "t:  75% 181/241 [00:08<00:03, 18.32it/s, now=None]\u001b[A\n",
            "t:  76% 183/241 [00:08<00:03, 17.21it/s, now=None]\u001b[A\n",
            "t:  77% 186/241 [00:08<00:02, 19.59it/s, now=None]\u001b[A\n",
            "t:  78% 189/241 [00:08<00:02, 19.89it/s, now=None]\u001b[A\n",
            "t:  80% 192/241 [00:08<00:02, 18.44it/s, now=None]\u001b[A\n",
            "t:  81% 195/241 [00:08<00:02, 17.83it/s, now=None]\u001b[A\n",
            "t:  82% 198/241 [00:08<00:02, 18.77it/s, now=None]\u001b[A\n",
            "t:  83% 201/241 [00:09<00:02, 19.68it/s, now=None]\u001b[A\n",
            "t:  85% 204/241 [00:09<00:01, 19.32it/s, now=None]\u001b[A\n",
            "t:  86% 207/241 [00:09<00:01, 18.52it/s, now=None]\u001b[A\n",
            "t:  87% 210/241 [00:09<00:01, 20.76it/s, now=None]\u001b[A\n",
            "t:  88% 213/241 [00:09<00:01, 19.57it/s, now=None]\u001b[A\n",
            "t:  90% 216/241 [00:09<00:01, 18.85it/s, now=None]\u001b[A\n",
            "t:  90% 218/241 [00:09<00:01, 19.11it/s, now=None]\u001b[A\n",
            "t:  91% 220/241 [00:10<00:01, 17.68it/s, now=None]\u001b[A\n",
            "t:  93% 223/241 [00:10<00:01, 16.86it/s, now=None]\u001b[A\n",
            "t:  94% 226/241 [00:10<00:00, 18.98it/s, now=None]\u001b[A\n",
            "t:  95% 229/241 [00:10<00:00, 18.58it/s, now=None]\u001b[A\n",
            "t:  96% 231/241 [00:10<00:00, 16.78it/s, now=None]\u001b[A\n",
            "t:  97% 234/241 [00:10<00:00, 19.13it/s, now=None]\u001b[A\n",
            "t:  98% 237/241 [00:11<00:00, 17.54it/s, now=None]\u001b[A\n",
            "t:  99% 239/241 [00:11<00:00, 16.31it/s, now=None]\u001b[A\n",
            "Moviepy - Done !\n",
            "Moviepy - video ready video/moon_zoom-in.mp4\n",
            "Moviepy - Building video video/moon_swing.mp4.\n",
            "Moviepy - Writing video video/moon_swing.mp4\n",
            "\n",
            "  0% 0/1 [03:51<?, ?it/s]\n",
            "t:   0% 0/241 [00:00<?, ?it/s, now=None]\u001b[A\n",
            "t:   5% 12/241 [00:00<00:01, 116.87it/s, now=None]\u001b[A\n",
            "t:  10% 25/241 [00:00<00:01, 118.71it/s, now=None]\u001b[A\n",
            "t:  15% 37/241 [00:00<00:01, 117.71it/s, now=None]\u001b[A\n",
            "t:  20% 47/241 [00:00<00:01, 111.34it/s, now=None]\u001b[A\n",
            "t:  23% 56/241 [00:01<00:05, 36.73it/s, now=None] \u001b[A\n",
            "t:  26% 63/241 [00:01<00:05, 29.91it/s, now=None]\u001b[A\n",
            "t:  29% 69/241 [00:01<00:07, 23.63it/s, now=None]\u001b[A\n",
            "t:  31% 74/241 [00:02<00:07, 21.89it/s, now=None]\u001b[A\n",
            "t:  32% 78/241 [00:02<00:08, 20.10it/s, now=None]\u001b[A\n",
            "t:  34% 81/241 [00:02<00:08, 18.53it/s, now=None]\u001b[A\n",
            "t:  35% 84/241 [00:02<00:08, 17.68it/s, now=None]\u001b[A\n",
            "t:  36% 87/241 [00:02<00:08, 18.35it/s, now=None]\u001b[A\n",
            "t:  37% 90/241 [00:02<00:08, 18.29it/s, now=None]\u001b[A\n",
            "t:  39% 93/241 [00:03<00:08, 16.60it/s, now=None]\u001b[A\n",
            "t:  40% 96/241 [00:03<00:08, 16.19it/s, now=None]\u001b[A\n",
            "t:  41% 99/241 [00:03<00:07, 17.76it/s, now=None]\u001b[A\n",
            "t:  42% 101/241 [00:03<00:08, 17.09it/s, now=None]\u001b[A\n",
            "t:  43% 103/241 [00:03<00:08, 15.36it/s, now=None]\u001b[A\n",
            "t:  44% 106/241 [00:03<00:08, 16.56it/s, now=None]\u001b[A\n",
            "t:  45% 108/241 [00:04<00:08, 15.71it/s, now=None]\u001b[A\n",
            "t:  46% 111/241 [00:04<00:07, 17.46it/s, now=None]\u001b[A\n",
            "t:  47% 113/241 [00:04<00:07, 16.16it/s, now=None]\u001b[A\n",
            "t:  48% 116/241 [00:04<00:07, 15.98it/s, now=None]\u001b[A\n",
            "t:  49% 119/241 [00:04<00:07, 17.08it/s, now=None]\u001b[A\n",
            "t:  50% 121/241 [00:04<00:07, 16.71it/s, now=None]\u001b[A\n",
            "t:  51% 124/241 [00:05<00:07, 16.22it/s, now=None]\u001b[A\n",
            "t:  53% 127/241 [00:05<00:06, 18.00it/s, now=None]\u001b[A\n",
            "t:  54% 129/241 [00:05<00:06, 17.09it/s, now=None]\u001b[A\n",
            "t:  55% 132/241 [00:05<00:06, 16.14it/s, now=None]\u001b[A\n",
            "t:  56% 135/241 [00:05<00:05, 18.51it/s, now=None]\u001b[A\n",
            "t:  57% 138/241 [00:05<00:05, 18.09it/s, now=None]\u001b[A\n",
            "t:  58% 140/241 [00:05<00:06, 15.43it/s, now=None]\u001b[A\n",
            "t:  59% 143/241 [00:06<00:05, 16.98it/s, now=None]\u001b[A\n",
            "t:  60% 145/241 [00:06<00:06, 15.82it/s, now=None]\u001b[A\n",
            "t:  61% 148/241 [00:06<00:05, 15.80it/s, now=None]\u001b[A\n",
            "t:  63% 151/241 [00:06<00:05, 16.97it/s, now=None]\u001b[A\n",
            "t:  64% 154/241 [00:06<00:04, 17.68it/s, now=None]\u001b[A\n",
            "t:  65% 156/241 [00:06<00:05, 16.58it/s, now=None]\u001b[A\n",
            "t:  66% 160/241 [00:07<00:04, 17.10it/s, now=None]\u001b[A\n",
            "t:  68% 164/241 [00:07<00:04, 17.43it/s, now=None]\u001b[A\n",
            "t:  70% 168/241 [00:07<00:03, 18.66it/s, now=None]\u001b[A\n",
            "t:  71% 171/241 [00:07<00:03, 20.88it/s, now=None]\u001b[A\n",
            "t:  73% 175/241 [00:07<00:03, 20.91it/s, now=None]\u001b[A\n",
            "t:  74% 178/241 [00:07<00:02, 21.18it/s, now=None]\u001b[A\n",
            "t:  75% 181/241 [00:08<00:03, 19.86it/s, now=None]\u001b[A\n",
            "t:  76% 184/241 [00:08<00:03, 18.35it/s, now=None]\u001b[A\n",
            "t:  78% 188/241 [00:08<00:02, 18.26it/s, now=None]\u001b[A\n",
            "t:  79% 191/241 [00:08<00:02, 18.56it/s, now=None]\u001b[A\n",
            "t:  80% 193/241 [00:08<00:02, 18.90it/s, now=None]\u001b[A\n",
            "t:  81% 196/241 [00:08<00:02, 17.82it/s, now=None]\u001b[A\n",
            "t:  83% 199/241 [00:09<00:02, 19.18it/s, now=None]\u001b[A\n",
            "t:  83% 201/241 [00:09<00:02, 17.65it/s, now=None]\u001b[A\n",
            "t:  85% 204/241 [00:09<00:02, 16.48it/s, now=None]\u001b[A\n",
            "t:  86% 207/241 [00:09<00:01, 18.03it/s, now=None]\u001b[A\n",
            "t:  87% 209/241 [00:09<00:01, 16.97it/s, now=None]\u001b[A\n",
            "t:  88% 212/241 [00:09<00:01, 16.29it/s, now=None]\u001b[A\n",
            "t:  89% 215/241 [00:09<00:01, 18.29it/s, now=None]\u001b[A\n",
            "t:  90% 217/241 [00:10<00:01, 17.06it/s, now=None]\u001b[A\n",
            "t:  91% 220/241 [00:10<00:01, 16.14it/s, now=None]\u001b[A\n",
            "t:  93% 223/241 [00:10<00:01, 17.57it/s, now=None]\u001b[A\n",
            "t:  93% 225/241 [00:10<00:00, 16.76it/s, now=None]\u001b[A\n",
            "t:  95% 228/241 [00:10<00:00, 16.16it/s, now=None]\u001b[A\n",
            "t:  96% 231/241 [00:10<00:00, 18.35it/s, now=None]\u001b[A\n",
            "t:  97% 233/241 [00:11<00:00, 16.08it/s, now=None]\u001b[A\n",
            "t:  98% 236/241 [00:11<00:00, 15.59it/s, now=None]\u001b[A\n",
            "t:  99% 239/241 [00:11<00:00, 17.27it/s, now=None]\u001b[A\n",
            "t: 100% 241/241 [00:11<00:00, 16.56it/s, now=None]\u001b[A\n",
            "Moviepy - Done !\n",
            "Moviepy - video ready video/moon_swing.mp4\n",
            "Moviepy - Building video video/moon_circle.mp4.\n",
            "Moviepy - Writing video video/moon_circle.mp4\n",
            "\n",
            "  0% 0/1 [04:15<?, ?it/s]\n",
            "t:   0% 0/241 [00:00<?, ?it/s, now=None]\u001b[A\n",
            "t:   5% 12/241 [00:00<00:02, 113.04it/s, now=None]\u001b[A\n",
            "t:  10% 25/241 [00:00<00:01, 116.46it/s, now=None]\u001b[A\n",
            "t:  15% 36/241 [00:00<00:01, 113.75it/s, now=None]\u001b[A\n",
            "t:  19% 46/241 [00:00<00:01, 105.35it/s, now=None]\u001b[A\n",
            "t:  22% 54/241 [00:00<00:05, 37.29it/s, now=None] \u001b[A\n",
            "t:  25% 61/241 [00:01<00:06, 27.83it/s, now=None]\u001b[A\n",
            "t:  27% 66/241 [00:01<00:06, 25.26it/s, now=None]\u001b[A\n",
            "t:  29% 70/241 [00:01<00:07, 21.80it/s, now=None]\u001b[A\n",
            "t:  31% 74/241 [00:02<00:07, 21.67it/s, now=None]\u001b[A\n",
            "t:  32% 77/241 [00:02<00:08, 20.01it/s, now=None]\u001b[A\n",
            "t:  33% 80/241 [00:02<00:09, 17.85it/s, now=None]\u001b[A\n",
            "t:  34% 83/241 [00:02<00:09, 17.05it/s, now=None]\u001b[A\n",
            "t:  36% 86/241 [00:02<00:08, 19.16it/s, now=None]\u001b[A\n",
            "t:  37% 89/241 [00:02<00:08, 17.23it/s, now=None]\u001b[A\n",
            "t:  38% 91/241 [00:03<00:09, 15.72it/s, now=None]\u001b[A\n",
            "t:  39% 93/241 [00:03<00:09, 16.03it/s, now=None]\u001b[A\n",
            "t:  39% 95/241 [00:03<00:09, 15.79it/s, now=None]\u001b[A\n",
            "t:  41% 98/241 [00:03<00:07, 18.09it/s, now=None]\u001b[A\n",
            "t:  41% 100/241 [00:03<00:08, 15.82it/s, now=None]\u001b[A\n",
            "t:  43% 103/241 [00:03<00:08, 15.81it/s, now=None]\u001b[A\n",
            "t:  44% 106/241 [00:03<00:07, 17.92it/s, now=None]\u001b[A\n",
            "t:  45% 108/241 [00:04<00:08, 16.08it/s, now=None]\u001b[A\n",
            "t:  46% 110/241 [00:04<00:08, 16.01it/s, now=None]\u001b[A\n",
            "t:  46% 112/241 [00:04<00:07, 16.33it/s, now=None]\u001b[A\n",
            "t:  48% 115/241 [00:04<00:07, 16.24it/s, now=None]\u001b[A\n",
            "t:  49% 117/241 [00:04<00:07, 16.99it/s, now=None]\u001b[A\n",
            "t:  49% 119/241 [00:04<00:07, 16.02it/s, now=None]\u001b[A\n",
            "t:  51% 122/241 [00:04<00:06, 17.77it/s, now=None]\u001b[A\n",
            "t:  51% 124/241 [00:05<00:06, 16.80it/s, now=None]\u001b[A\n",
            "t:  53% 127/241 [00:05<00:06, 16.37it/s, now=None]\u001b[A\n",
            "t:  54% 130/241 [00:05<00:06, 18.43it/s, now=None]\u001b[A\n",
            "t:  55% 132/241 [00:05<00:06, 16.66it/s, now=None]\u001b[A\n",
            "t:  56% 135/241 [00:05<00:06, 16.23it/s, now=None]\u001b[A\n",
            "t:  57% 138/241 [00:05<00:05, 18.58it/s, now=None]\u001b[A\n",
            "t:  59% 141/241 [00:05<00:05, 17.04it/s, now=None]\u001b[A\n",
            "t:  59% 143/241 [00:06<00:06, 16.22it/s, now=None]\u001b[A\n",
            "t:  61% 146/241 [00:06<00:05, 17.79it/s, now=None]\u001b[A\n",
            "t:  61% 148/241 [00:06<00:05, 17.70it/s, now=None]\u001b[A\n",
            "t:  63% 151/241 [00:06<00:05, 17.19it/s, now=None]\u001b[A\n",
            "t:  64% 154/241 [00:06<00:04, 19.47it/s, now=None]\u001b[A\n",
            "t:  65% 157/241 [00:06<00:04, 19.13it/s, now=None]\u001b[A\n",
            "t:  66% 160/241 [00:06<00:04, 18.33it/s, now=None]\u001b[A\n",
            "t:  67% 162/241 [00:07<00:04, 18.69it/s, now=None]\u001b[A\n",
            "t:  68% 164/241 [00:07<00:04, 17.86it/s, now=None]\u001b[A\n",
            "t:  69% 167/241 [00:07<00:04, 17.61it/s, now=None]\u001b[A\n",
            "t:  71% 171/241 [00:07<00:03, 17.84it/s, now=None]\u001b[A\n",
            "t:  72% 174/241 [00:07<00:03, 20.12it/s, now=None]\u001b[A\n",
            "t:  73% 177/241 [00:07<00:03, 19.23it/s, now=None]\u001b[A\n",
            "t:  75% 180/241 [00:08<00:03, 17.67it/s, now=None]\u001b[A\n",
            "t:  76% 183/241 [00:08<00:03, 17.12it/s, now=None]\u001b[A\n",
            "t:  78% 187/241 [00:08<00:03, 17.39it/s, now=None]\u001b[A\n",
            "t:  79% 190/241 [00:08<00:02, 18.29it/s, now=None]\u001b[A\n",
            "t:  80% 192/241 [00:08<00:02, 17.18it/s, now=None]\u001b[A\n",
            "t:  81% 195/241 [00:08<00:02, 16.44it/s, now=None]\u001b[A\n",
            "t:  82% 198/241 [00:09<00:02, 17.25it/s, now=None]\u001b[A\n",
            "t:  83% 200/241 [00:09<00:02, 17.28it/s, now=None]\u001b[A\n",
            "t:  84% 203/241 [00:09<00:02, 16.40it/s, now=None]\u001b[A\n",
            "t:  86% 207/241 [00:09<00:02, 16.56it/s, now=None]\u001b[A\n",
            "t:  88% 211/241 [00:09<00:01, 16.57it/s, now=None]\u001b[A\n",
            "t:  88% 213/241 [00:10<00:01, 17.36it/s, now=None]\u001b[A\n",
            "t:  89% 215/241 [00:10<00:01, 17.58it/s, now=None]\u001b[A\n",
            "t:  90% 217/241 [00:10<00:01, 18.15it/s, now=None]\u001b[A\n",
            "t:  91% 219/241 [00:10<00:01, 16.23it/s, now=None]\u001b[A\n",
            "t:  93% 223/241 [00:10<00:01, 16.62it/s, now=None]\u001b[A\n",
            "t:  94% 226/241 [00:10<00:00, 18.22it/s, now=None]\u001b[A\n",
            "t:  95% 228/241 [00:10<00:00, 16.82it/s, now=None]\u001b[A\n",
            "t:  96% 231/241 [00:11<00:00, 15.87it/s, now=None]\u001b[A\n",
            "t:  97% 234/241 [00:11<00:00, 17.63it/s, now=None]\u001b[A\n",
            "t:  98% 236/241 [00:11<00:00, 16.85it/s, now=None]\u001b[A\n",
            "t:  99% 239/241 [00:11<00:00, 16.36it/s, now=None]\u001b[A\n",
            "Moviepy - Done !\n",
            "Moviepy - video ready video/moon_circle.mp4\n",
            "100% 1/1 [04:29<00:00, 269.79s/it]\n"
          ],
          "name": "stdout"
        }
      ]
    },
    {
      "cell_type": "markdown",
      "metadata": {
        "id": "wPvkMT0msIJB",
        "colab_type": "text"
      },
      "source": [
        "- **The results are stored in the following directories**\n",
        "  - Corresponding depth map estimated by [MiDaS](https://github.com/intel-isl/MiDaS.git) \n",
        "      - E.g. ```/content/3d-photo-inpainting/depth/moon.npy```\n",
        "  - Inpainted 3D mesh\n",
        "      - E.g. ```/content/3d-photo-inpainting/mesh/moon.ply```\n",
        "  - Rendered videos with zoom-in motion\n",
        "      - E.g. ```/content/3d-photo-inpainting/video/moon_zoom-in.mp4```\n",
        "  - Rendered videos with swing motion\n",
        "      - E.g. ```/content/3d-photo-inpainting/video/moon_swing.mp4```\n",
        "  - Rendered videos with circle motion\n",
        "      - E.g. ```/content/3d-photo-inpainting/video/moon_circle.mp4```\n",
        "  \n",
        "    ![](https://drive.google.com/uc?id=1xBiZAeGfhsoAsG08N5UM8-f993p0G5HF)"
      ]
    }
  ]
}